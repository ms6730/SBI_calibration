{
 "cells": [
  {
   "cell_type": "markdown",
   "id": "3f426824-3cc5-443b-9e26-d65b962918bf",
   "metadata": {},
   "source": [
    "# 1. Comparative Analysis Based on Summary Statistics"
   ]
  },
  {
   "cell_type": "markdown",
   "id": "75983ac9-5f23-4492-9cc5-75ab92eab0f9",
   "metadata": {},
   "source": [
    "**We conducted a comparative analysis using summary statistics (mean and standard deviation) to assess how well the simulated streamflow, generated using the most probable M from the posterior distribution, matches real-world observations.**"
   ]
  },
  {
   "cell_type": "markdown",
   "id": "12c13c1f-9598-4376-8ee5-d8fa69751700",
   "metadata": {},
   "source": [
    "### 1.1 Comparaive analysis between real world observation (USGS) and Simulated streamflow based on most proble "
   ]
  }
 ],
 "metadata": {
  "kernelspec": {
   "display_name": "sbi_new [~/.conda/envs/sbi_new/]",
   "language": "python",
   "name": "conda_sbi_new"
  },
  "language_info": {
   "codemirror_mode": {
    "name": "ipython",
    "version": 3
   },
   "file_extension": ".py",
   "mimetype": "text/x-python",
   "name": "python",
   "nbconvert_exporter": "python",
   "pygments_lexer": "ipython3",
   "version": "3.10.16"
  }
 },
 "nbformat": 4,
 "nbformat_minor": 5
}
